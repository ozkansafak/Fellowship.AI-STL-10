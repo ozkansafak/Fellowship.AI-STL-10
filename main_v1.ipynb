{
 "cells": [
  {
   "cell_type": "markdown",
   "metadata": {},
   "source": [
    "## METHODOLOGY\n",
    "\n",
    "#### Supervised Part:\n",
    "\n",
    "> 1. Load VGG16 model weights pre-trained on Imagenet. Call it `model_bottom`.    \n",
    "     \n",
    "> 2. Strip last 3 Dense Layers.   \n",
    "    \n",
    "> 3. Do a forward pass with `X_train` and `X_test` on `model_bottom`. Save outputs as `X_train_features` and `X_test_features`.\n",
    "\n",
    "> 4. Reserve the first half of `(X_test_features, y_test)` for `(X_cv_features, y_cv)`.\n",
    "\n",
    "> 5. Create a new model that accepts VGG16 bottleneck features as input. Call this `model_top`.\n",
    "\n",
    "> 6. Train `model_top` on `X_train_features` with validation on `(X_cv_features, y_cv)`.\n",
    "\n",
    "> 7.  Load best performing model weights and compute accuracy on `(X_test_features, y_test)`.\n",
    "\n",
    "#### Now the Unsupervised Part:\n",
    "\n",
    "> 8. Compute `y_unlabeled_predict` via forward pass with `X_unlabeled` on `model_top`.\n",
    "\n",
    "> 9.  If max probability of `y_unlabeled_predict` exceeds `threshold = 0.9` on any class, append that example to an additional training data `X_train_add` with the class `y_train_add`.\n",
    "\n",
    "> 10. Compute `X_train_add_features` via forward pass with `X_train_add` on `model_bottom`.\n",
    "\n",
    "> 11. Concatenate `X_train_features` and `X_train_add_features` into `X_train_2_features`. Concatenate `y_train` and `y_train_add` into `y_train_2`.\n",
    "\n",
    "> 12. Re-train `model_top` on `X_train_2_features` and `y_train_2` (N.B. use the STL-10 trained weights as initial weights). For cross-validation use same dataset `(X_cv_features, y_cv)`.\n",
    "\n",
    "> 13. Load best performing model weights and compute accuracy on `(X_test_features, y_test)`.\n",
    "\n",
    "\n"
   ]
  },
  {
   "cell_type": "code",
   "execution_count": 11,
   "metadata": {},
   "outputs": [
    {
     "name": "stdout",
     "output_type": "stream",
     "text": [
      "[name: \"/cpu:0\"\n",
      "device_type: \"CPU\"\n",
      "memory_limit: 268435456\n",
      "locality {\n",
      "}\n",
      "incarnation: 13607804961581329941\n",
      ", name: \"/gpu:0\"\n",
      "device_type: \"GPU\"\n",
      "memory_limit: 167772160\n",
      "locality {\n",
      "  bus_id: 1\n",
      "}\n",
      "incarnation: 2619405364488050452\n",
      "physical_device_desc: \"device: 0, name: Tesla K80, pci bus id: 0000:00:1e.0\"\n",
      "]\n"
     ]
    }
   ],
   "source": [
    "from tensorflow.python.client import device_lib\n",
    "print(device_lib.list_local_devices())\n",
    "\n",
    "import tensorflow as tf\n",
    "sess = tf.Session(config=tf.ConfigProto(log_device_placement=True))"
   ]
  },
  {
   "cell_type": "code",
   "execution_count": 2,
   "metadata": {},
   "outputs": [
    {
     "name": "stderr",
     "output_type": "stream",
     "text": [
      "Using TensorFlow backend.\n"
     ]
    },
    {
     "name": "stdout",
     "output_type": "stream",
     "text": [
      "sys.version_info(major=3, minor=6, micro=1, releaselevel='final', serial=0)\n"
     ]
    }
   ],
   "source": [
    "%matplotlib inline\n",
    "%load_ext autoreload\n",
    "%autoreload 2\n",
    "\n",
    "from helpers import *\n",
    "from stl10_input import *\n",
    "import os, sys, tarfile, time\n",
    "import numpy as np\n",
    "import matplotlib.pyplot as plt\n",
    "import matplotlib.pylab as pylab\n",
    "from matplotlib.ticker import MaxNLocator\n",
    "\n",
    "params = {'legend.fontsize': 'x-large',\n",
    "          'font.size'      : 10,\n",
    "          'figure.figsize' : (17, 3),\n",
    "          'axes.labelsize' : 'x-large',\n",
    "          'axes.titlesize' : 'x-large',\n",
    "          'axes.grid'      : 'on',\n",
    "          'xtick.labelsize': 'x-large',\n",
    "          'ytick.labelsize': 'x-large'}\n",
    "\n",
    "pylab.rcParams.update(params)\n",
    "\n",
    "DATA_PATH = './data/train_X.bin'\n",
    "LABEL_PATH = './data/train_y.bin'"
   ]
  },
  {
   "cell_type": "markdown",
   "metadata": {
    "collapsed": true
   },
   "source": [
    "---\n",
    "\n",
    "# Supervised Part\n",
    "\n",
    "### Read in training and test STL-10 datasets"
   ]
  },
  {
   "cell_type": "code",
   "execution_count": 3,
   "metadata": {
    "collapsed": true
   },
   "outputs": [],
   "source": [
    "with open('data/train_X.bin') as f:\n",
    "    raw = np.fromfile(f, dtype=np.uint8, count=-1)\n",
    "    raw = np.reshape(raw, (-1, 3, 96, 96))\n",
    "    raw = np.transpose(raw, (0,3,2,1))\n",
    "    X_train_raw = raw\n",
    "    \n",
    "with open('data/train_y.bin') as f:\n",
    "    raw = np.fromfile(f, dtype=np.uint8, count=-1)\n",
    "    y_train = raw-1\n",
    "\n",
    "with open('data/test_X.bin') as f:\n",
    "    raw = np.fromfile(f, dtype=np.uint8, count=-1)\n",
    "    raw = np.reshape(raw, (-1, 3, 96, 96))\n",
    "    raw = np.transpose(raw, (0,3,2,1))\n",
    "    X_test_raw = raw\n",
    "\n",
    "with open('data/test_y.bin') as f:\n",
    "    raw = np.fromfile(f, dtype=np.uint8, count=-1)\n",
    "    y_test = raw-1\n",
    "    \n",
    "#---------------------------------------------------------\n",
    "from keras.utils import to_categorical\n",
    "\n",
    "y_train = to_categorical(y_train, num_classes = 1000)\n",
    "y_test  = to_categorical(y_test , num_classes = 1000)"
   ]
  },
  {
   "cell_type": "markdown",
   "metadata": {},
   "source": [
    "### Resize the original `(96,96,3)` images to `(224,224,3)` \n"
   ]
  },
  {
   "cell_type": "code",
   "execution_count": 4,
   "metadata": {},
   "outputs": [
    {
     "name": "stdout",
     "output_type": "stream",
     "text": [
      "(5000, 224, 224, 3) (5000, 1000)\n",
      "(8000, 224, 224, 3) (8000, 1000)\n",
      "Runtime: 0 min 20 sec\n"
     ]
    }
   ],
   "source": [
    "start = time.time()\n",
    "from PIL import Image\n",
    "\n",
    "def resize_tensorimages(X_raw, interp_method=Image.BICUBIC):\n",
    "    # VGG16 accepts input images of size (224, 224, 3)\n",
    "    # Therefore, convert X_train_raw and X_test_raw to PIL.Image format, \n",
    "    # then resize the images from (96, 96, 3) to (224, 224, 3) \n",
    "    \n",
    "    X_224 = np.zeros((X_raw.shape[0], 224, 224, 3))\n",
    "    for i, _ in enumerate(X_raw):\n",
    "        im = Image.fromarray(np.uint8(X_raw[i]))\n",
    "        img = im.resize((224, 224), interp_method)\n",
    "        X_224[i] = img\n",
    "    \n",
    "    return X_224\n",
    "\n",
    "X_train = resize_tensorimages(X_train_raw)\n",
    "X_test  = resize_tensorimages(X_test_raw)\n",
    "    \n",
    "del X_train_raw, X_test_raw\n",
    "print(X_train.shape, y_train.shape)\n",
    "print(X_test.shape, y_test.shape)\n",
    "\n",
    "print_runtime(start)"
   ]
  },
  {
   "cell_type": "markdown",
   "metadata": {},
   "source": [
    "---\n",
    "\n",
    "# Obtain Bottleneck Features for VGG16\n",
    "### 1.  Load VGG16 model weights pre-trained on Imagenet. Call it `model_bottom`.     \n",
    "\n",
    "\n",
    "### 2.  Strip last 3 Dense Layers.   "
   ]
  },
  {
   "cell_type": "code",
   "execution_count": 5,
   "metadata": {
    "collapsed": true
   },
   "outputs": [],
   "source": [
    "from keras.applications.vgg16 import VGG16\n",
    "from keras.applications.vgg16 import preprocess_input\n",
    "#---------------------------------------------------------\n",
    "\n",
    "model_bottom = VGG16(include_top=False)"
   ]
  },
  {
   "cell_type": "markdown",
   "metadata": {},
   "source": [
    "### 3. Do a forward pass with `X_train` and `X_test` on `model_bottom`.   Save outputs as `X_train_features` and `X_test_features`."
   ]
  },
  {
   "cell_type": "code",
   "execution_count": 6,
   "metadata": {},
   "outputs": [
    {
     "name": "stdout",
     "output_type": "stream",
     "text": [
      "Runtime: 0 min 0 sec\n"
     ]
    }
   ],
   "source": [
    "start = time.time()\n",
    "#---------------------------------------------------------\n",
    "\n",
    "# batch_size = 128\n",
    "\n",
    "# X_train = preprocess_input(X_train) \n",
    "# X_test = preprocess_input(X_test) \n",
    "# d = model.predict(X_train[0:2])\n",
    "\n",
    "# X_train_features = np.zeros((X_train.shape[0],*d.shape[1:]))\n",
    "\n",
    "# for i in range(len(X_train)//batch_size):\n",
    "#     idx = range(i*batch_size, (i+1)*batch_size)\n",
    "#     print('Training set: %5.2f%%' % ((i+1)/(len(X_train)//batch_size)*100), end='\\r')\n",
    "#     X_train_features[idx] = model.predict(X_train[idx])    \n",
    "# X_train_features[(i+1)*batch_size:] = model.predict(X_train[(i+1)*batch_size:])\n",
    "\n",
    "# #---------------------------------------------------------\n",
    "# print() \n",
    "# # Save `X_train_features` to `.npy` file, so you don't have to run this again.\n",
    "# with open('data/X_train_features.npy', 'wb+') as f:\n",
    "#     np.save(f, X_train_features)\n",
    "\n",
    "\n",
    "### Load `X_train_features` from `.npy` file. \n",
    "with open('data/X_train_features.npy','rb') as f:\n",
    "    X_train_features = np.load(f)     \n",
    "#---------------------------------------------------------\n",
    "\n",
    "### Compute `X_test_features` on pretrained `VGG16` model.\n",
    "# X_test_features  = np.zeros((X_test.shape[0], *d.shape[1:]))\n",
    "# for i in range(len(X_test)//batch_size):\n",
    "#     idx = range(i*batch_size, (i+1)*batch_size)\n",
    "#     print('Test set: %5.2f%%' % ((i+1)/(len(X_train)//batch_size)*100), end='\\r')\n",
    "#     X_test_features[idx] = model.predict(X_test[idx])\n",
    "# X_test_features[(i+1)*batch_size:] = model.predict(X_test[(i+1)*batch_size:])\n",
    "\n",
    "# print()\n",
    "# # Save `X_test_features` to `.npy` file, so you don't have to run this again.\n",
    "# with open('data/X_test_features.npy', 'wb+') as f:\n",
    "#     np.save(f, X_test_features)\n",
    "\n",
    "\n",
    "### Load `X_test_features` from `.npy` file.\n",
    "with open('data/X_test_features.npy','rb') as f:\n",
    "    X_test_features = np.load(f)\n",
    "    \n",
    "#---------------------------------------------------------\n",
    "print_runtime(start)"
   ]
  },
  {
   "cell_type": "markdown",
   "metadata": {},
   "source": [
    "### 4. Split off the first half of `(X_test_features, y_test)` for `(X_cv_features, y_cv)`."
   ]
  },
  {
   "cell_type": "code",
   "execution_count": 7,
   "metadata": {},
   "outputs": [
    {
     "data": {
      "text/plain": [
       "(((4000, 7, 7, 512), (4000, 1000)), ((4000, 7, 7, 512), (4000, 1000)))"
      ]
     },
     "execution_count": 7,
     "metadata": {},
     "output_type": "execute_result"
    }
   ],
   "source": [
    "a = len(X_test_features) \n",
    "half = int(a/2) \n",
    "\n",
    "X_cv_features = X_test_features[:half] \n",
    "y_cv = y_test[:half] \n",
    "\n",
    "X_test_features = X_test_features[half:] \n",
    "y_test = y_test[half:] \n",
    "\n",
    "((X_test_features.shape, y_test.shape)), (X_cv_features.shape, y_cv.shape) "
   ]
  },
  {
   "cell_type": "code",
   "execution_count": 8,
   "metadata": {},
   "outputs": [
    {
     "data": {
      "text/plain": [
       "(dtype('float32'), dtype('float32'), dtype('float32'))"
      ]
     },
     "execution_count": 8,
     "metadata": {},
     "output_type": "execute_result"
    }
   ],
   "source": [
    "X_train_features.dtype, X_cv_features.dtype, X_test_features.dtype"
   ]
  },
  {
   "cell_type": "markdown",
   "metadata": {},
   "source": [
    "### 5. Construct a Neural Network that accepts VGG16 bottleneck features as input. Call this `model_top`.\n",
    "\n",
    "### 6. Train `model_top` on  `X_train_features` with validation on `(X_cv_features, y_cv)`."
   ]
  },
  {
   "cell_type": "code",
   "execution_count": 9,
   "metadata": {
    "scrolled": false
   },
   "outputs": [
    {
     "name": "stdout",
     "output_type": "stream",
     "text": [
      "_________________________________________________________________\n",
      "Layer (type)                 Output Shape              Param #   \n",
      "=================================================================\n",
      "global_average_pooling2d_1 ( (None, 512)               0         \n",
      "_________________________________________________________________\n",
      "dense_1 (Dense)              (None, 1000)              513000    \n",
      "=================================================================\n",
      "Total params: 513,000\n",
      "Trainable params: 513,000\n",
      "Non-trainable params: 0\n",
      "_________________________________________________________________\n",
      "Initiate Training....\n",
      "Epoch 00000: val_loss improved from inf to 0.60450, saving model to saved_models/model.best.hdf5\n",
      "Epoch 00001: val_loss improved from 0.60450 to 0.34581, saving model to saved_models/model.best.hdf5\n",
      "Epoch 00002: val_loss improved from 0.34581 to 0.27818, saving model to saved_models/model.best.hdf5\n",
      "Epoch 00003: val_loss improved from 0.27818 to 0.24262, saving model to saved_models/model.best.hdf5\n",
      "Epoch 00004: val_loss improved from 0.24262 to 0.21987, saving model to saved_models/model.best.hdf5\n",
      "Epoch 00005: val_loss improved from 0.21987 to 0.20827, saving model to saved_models/model.best.hdf5\n",
      "Epoch 00006: val_loss improved from 0.20827 to 0.20168, saving model to saved_models/model.best.hdf5\n",
      "Epoch 00007: val_loss improved from 0.20168 to 0.19423, saving model to saved_models/model.best.hdf5\n",
      "Epoch 00008: val_loss improved from 0.19423 to 0.18600, saving model to saved_models/model.best.hdf5\n",
      "Epoch 00009: val_loss improved from 0.18600 to 0.17896, saving model to saved_models/model.best.hdf5\n",
      "Epoch 00010: val_loss did not improve\n",
      "Epoch 00011: val_loss improved from 0.17896 to 0.17630, saving model to saved_models/model.best.hdf5\n",
      "Epoch 00012: val_loss improved from 0.17630 to 0.17535, saving model to saved_models/model.best.hdf5\n",
      "Epoch 00013: val_loss did not improve\n",
      "Epoch 00014: val_loss did not improve\n",
      "Epoch 00015: val_loss did not improve\n",
      "Epoch 00016: val_loss improved from 0.17535 to 0.17254, saving model to saved_models/model.best.hdf5\n",
      "Epoch 00017: val_loss improved from 0.17254 to 0.17200, saving model to saved_models/model.best.hdf5\n",
      "Epoch 00018: val_loss did not improve\n",
      "Epoch 00019: val_loss improved from 0.17200 to 0.17137, saving model to saved_models/model.best.hdf5\n",
      "Runtime: 0 min 48 sec\n"
     ]
    }
   ],
   "source": [
    "model_top = get_model_top()\n",
    "model_top, callback_inst = train_model(model_top, \n",
    "                                       X_train_features, y_train,\n",
    "                                       X_cv_features, y_cv, \n",
    "                                       epochs=20,\n",
    "                                       batch_size=128,\n",
    "                                       wanna_plot=False)\n"
   ]
  },
  {
   "cell_type": "code",
   "execution_count": 12,
   "metadata": {},
   "outputs": [
    {
     "data": {
      "image/png": "[encoded data removed]",
      "text/plain": [
       "<matplotlib.figure.Figure at 0x7fbf160390f0>"
      ]
     },
     "metadata": {},
     "output_type": "display_data"
    }
   ],
   "source": [
    "callback_inst.plotter()"
   ]
  },
  {
   "cell_type": "markdown",
   "metadata": {},
   "source": [
    "### 7.  Compute test accuracy."
   ]
  },
  {
   "cell_type": "code",
   "execution_count": 13,
   "metadata": {
    "scrolled": true
   },
   "outputs": [
    {
     "name": "stdout",
     "output_type": "stream",
     "text": [
      "3712/4000 [==========================>...] - ETA: 0s\n",
      "Test Accuracy = 93.27 %\n"
     ]
    }
   ],
   "source": [
    "model_top.load_weights('saved_models/model.best.hdf5')\n",
    "\n",
    "_loss, acc = model_top.evaluate(X_test_features, y_test, \n",
    "                                batch_size=128);\n",
    "print('\\nTest Accuracy = %.2f %%' % (acc*100))"
   ]
  },
  {
   "cell_type": "markdown",
   "metadata": {},
   "source": [
    "---\n",
    "\n",
    "# Unsupervised Part"
   ]
  },
  {
   "cell_type": "markdown",
   "metadata": {},
   "source": [
    "### Load unlabeled STL-10 data into `X_unlabeled_raw`."
   ]
  },
  {
   "cell_type": "code",
   "execution_count": 14,
   "metadata": {
    "collapsed": true
   },
   "outputs": [],
   "source": [
    "## 2.8 GB !!! \n",
    "# The (224, 224, 3) tensor will not fit in memory.\n",
    "# Build a generator\n",
    "# with open('data/unlabeled_X.bin') as f:\n",
    "#     raw = np.fromfile(f, dtype=np.uint8, count=-1)\n",
    "#     raw = np.reshape(raw, (-1, 3, 96, 96))\n",
    "#     raw = np.transpose(raw, (0,3,2,1))\n",
    "#     X_unlabeled_raw = raw\n",
    "\n",
    "# print(X_unlabeled_raw.shape)  \n",
    "# print('X_unlabeled_raw.nbytes = %.2f MB' % (X_unlabeled_raw.nbytes/1e6)  )"
   ]
  },
  {
   "cell_type": "markdown",
   "metadata": {},
   "source": [
    "### 8. Resize original `(96,96,3)` images to `(224,224,3)`––call them `X_unlabeled_224`.\n",
    "### 9.  Compute `X_unlabeled_features ` via forward pass on `model_bottom`.\n",
    "### 10.  Compute `y_unlabeled_predict` via forward pass of `X_unlabeled_features` on `model_top`.  \n",
    "### 11. Save `X_unlabeled_features` and `y_unlabeled_predict` to corresponding `.npy` files.\n"
   ]
  },
  {
   "cell_type": "code",
   "execution_count": 15,
   "metadata": {
    "collapsed": true,
    "scrolled": false
   },
   "outputs": [],
   "source": [
    "# # NPY FILE MAKER\n",
    "\n",
    "# start = time.time()\n",
    "\n",
    "# # .....................................................................\n",
    "\n",
    "# batch_size = 128\n",
    "# sno = -1\n",
    "# n_batches = len(X_unlabeled_raw)//batch_size\n",
    "\n",
    "# X_unlabeled_raw = X_unlabeled_raw.astype('float32')\n",
    "# X_unlabeled_features_repo = np.array([])\n",
    "\n",
    "# for i in range(0, n_batches):\n",
    "#     idx = range(i*batch_size, min((i+1)*batch_size, len(X_unlabeled_raw)))\n",
    "\n",
    "#     # Resize raw image tensors.\n",
    "#     X_unlabeled_224 = resize_tensorimages(X_unlabeled_raw[idx])\n",
    "    \n",
    "#     # Forward pass X_unlabeled_224 on model_bottom.\n",
    "#     # (This is the time-consuming step.)\n",
    "#     # X_unlabeled_features.shape = (128, 7, 7, 512)\n",
    "#     X_unlabeled_features = model_bottom.predict(X_unlabeled_224, batch_size=batch_size) \n",
    "    \n",
    "#     # Retrieve softmax probabilities on all classes.\n",
    "#     # y_unlabeled_softmax.shape = (128, 1000)\n",
    "#     y_unlabeled_softmax = model_top.predict(X_unlabeled_features) \n",
    "    \n",
    "#     diff = time.time()-start\n",
    "#     print('i = %d, n_batches = %d, Time: %d min %d sec  ' % (i, n_batches, diff//60, diff%60), end='\\r')\n",
    "    \n",
    "#     if len(X_unlabeled_features_repo.shape) == 1:\n",
    "#         X_unlabeled_features_repo = X_unlabeled_features\n",
    "#         y_unlabeled_softmax_repo  = y_unlabeled_softmax\n",
    "#     else:\n",
    "#         X_unlabeled_features_repo = np.concatenate([X_unlabeled_features_repo, X_unlabeled_features])\n",
    "#         y_unlabeled_softmax_repo  = np.concatenate([y_unlabeled_softmax_repo , y_unlabeled_softmax])\n",
    "    \n",
    "#     if X_unlabeled_features_repo.nbytes > 250*1e6:\n",
    "#         sno = sno + 1\n",
    "#         print()\n",
    "#         npy_saver(X_unlabeled_features_repo, 'X_unlabeled_features', sno)\n",
    "#         npy_saver(y_unlabeled_softmax_repo , 'y_unlabeled_softmax' , sno)\n",
    "#         print('---------------------------------------------------------')\n",
    "#         X_unlabeled_features_repo = np.array([])\n",
    "\n",
    "# if len(X_unlabeled_features_repo) > 1:\n",
    "#     sno = sno + 1\n",
    "#     print()\n",
    "#     npy_saver(X_unlabeled_features_repo, 'X_unlabeled_features', sno)\n",
    "#     npy_saver(y_unlabeled_softmax_repo , 'y_unlabeled_softmax' , sno)\n",
    "\n",
    "# del X_unlabeled_features_repo, y_unlabeled_softmax_repo, X_unlabeled_224\n",
    "# print_runtime(start)\n",
    "# print('\\nDone!!')"
   ]
  },
  {
   "cell_type": "markdown",
   "metadata": {},
   "source": [
    "### 11.  If max probability of `y_unlabeled_predict` exceeds `threshold = 0.9` on any class, append that example to an additional training data `X_train_add` with the class `y_train_add`.\n",
    "##### Each `X_unlabeled_features_**.npy` is of length `2560` and size `257 MB`."
   ]
  },
  {
   "cell_type": "code",
   "execution_count": 16,
   "metadata": {},
   "outputs": [
    {
     "name": "stdout",
     "output_type": "stream",
     "text": [
      "threshold = 0.99\n",
      "Reading in: data/X_unlabeled_features_38.npy ,  data/y_unlabeled_softmax_38.npy\n",
      " (43235, 7, 7, 512) (43235, 1000)\n",
      "Runtime: 0 min 7 sec\n"
     ]
    }
   ],
   "source": [
    "start = time.time()\n",
    "\n",
    "threshold = .99\n",
    "outX = []\n",
    "outy = []\n",
    "\n",
    "X_train_add_features = np.array([]) \n",
    "import glob\n",
    "npys = glob.glob('data/*_softmax_*npy')\n",
    "npys.sort(reverse=True)\n",
    "highest_sno = int(npys[0].split('.npy')[0].split('_')[-1])\n",
    "\n",
    "print('threshold = %.2f' % (threshold))\n",
    "for sno in range(0, highest_sno):\n",
    "    with open('data/%s_%02d.npy' % ('X_unlabeled_features', sno), 'rb') as fX,\\\n",
    "        open('data/%s_%02d.npy' % ('y_unlabeled_softmax', sno), 'rb') as fy:\n",
    "        \n",
    "        print('Reading in:', fX.name, ', ', fy.name , end='\\r')\n",
    "        X_unlabeled_features = np.load(fX) # shape (2560, 7, 7, 512)\n",
    "        y_unlabeled_softmax  = np.load(fy) # (2560, 1000)\n",
    "\n",
    "    # Find index of predicted class.\n",
    "    # topclass_idx.shape = (2560,)\n",
    "    topclass_idx = np.argmax(y_unlabeled_softmax, axis=1) \n",
    "    \n",
    "    # prob: probability associated with topclass. shape = (2560,)\n",
    "    prob = y_unlabeled_softmax[ range(y_unlabeled_softmax.shape[0]) , topclass_idx ]\n",
    "    predict_idx = np.where(prob > threshold)[0]\n",
    "    \n",
    "    outX.append(X_unlabeled_features[predict_idx] )\n",
    "    onehot = np.zeros((len(predict_idx) , 1000))\n",
    "    onehot[range(len(predict_idx)), topclass_idx[predict_idx] ] = 1\n",
    "    outy.append(onehot)\n",
    "    \n",
    "# ................................................................    \n",
    "# with open('data/X_train_add_features.npy', 'wb+') as fX, \\\n",
    "#     open('data/y_train_add.npy', 'wb+') as fy:\n",
    "#     np.save(fX, X_train_add_features)\n",
    "#     np.save(fy, y_train_add)\n",
    "\n",
    "\n",
    "X_train_add_features = np.concatenate(outX)\n",
    "y_train_add = np.concatenate(outy)\n",
    "\n",
    "print('\\n', X_train_add_features.shape, y_train_add.shape)\n",
    "print_runtime(start)"
   ]
  },
  {
   "cell_type": "code",
   "execution_count": 17,
   "metadata": {},
   "outputs": [
    {
     "data": {
      "text/plain": [
       "4338.71872"
      ]
     },
     "execution_count": 17,
     "metadata": {},
     "output_type": "execute_result"
    }
   ],
   "source": [
    "X_train_add_features.nbytes/1e6"
   ]
  },
  {
   "cell_type": "code",
   "execution_count": 18,
   "metadata": {},
   "outputs": [
    {
     "data": {
      "image/png": "[encoded data removed]",
      "text/plain": [
       "<matplotlib.figure.Figure at 0x7fbf1549b470>"
      ]
     },
     "metadata": {},
     "output_type": "display_data"
    }
   ],
   "source": [
    "plt.plot(prob[:200],'k.');\n",
    "plt.plot([0,200],[threshold]*2, 'r--', alpha = .65);"
   ]
  },
  {
   "cell_type": "markdown",
   "metadata": {},
   "source": []
  },
  {
   "cell_type": "code",
   "execution_count": 19,
   "metadata": {},
   "outputs": [
    {
     "data": {
      "text/plain": [
       "(48235, 7, 7, 512)"
      ]
     },
     "execution_count": 19,
     "metadata": {},
     "output_type": "execute_result"
    }
   ],
   "source": [
    "X_train_features_xpand = np.concatenate([X_train_features, X_train_add_features])\n",
    "y_train_xpand = np.concatenate([y_train, y_train_add])\n",
    "X_train_features_xpand.shape"
   ]
  },
  {
   "cell_type": "markdown",
   "metadata": {},
   "source": [
    "### 12. Instantiate a Neural Network with same architecture.\n",
    "### 13. Train on expanded dataset."
   ]
  },
  {
   "cell_type": "code",
   "execution_count": 20,
   "metadata": {},
   "outputs": [
    {
     "name": "stdout",
     "output_type": "stream",
     "text": [
      "_________________________________________________________________\n",
      "Layer (type)                 Output Shape              Param #   \n",
      "=================================================================\n",
      "global_average_pooling2d_2 ( (None, 512)               0         \n",
      "_________________________________________________________________\n",
      "dense_2 (Dense)              (None, 1000)              513000    \n",
      "=================================================================\n",
      "Total params: 513,000\n",
      "Trainable params: 513,000\n",
      "Non-trainable params: 0\n",
      "_________________________________________________________________\n",
      "Initiate Training....\n",
      "Epoch 00000: val_loss improved from inf to 0.21526, saving model to saved_models/model.best.hdf5\n",
      "Epoch 00001: val_loss improved from 0.21526 to 0.18822, saving model to saved_models/model.best.hdf5\n",
      "Epoch 00002: val_loss did not improve\n",
      "Epoch 00003: val_loss improved from 0.18822 to 0.18178, saving model to saved_models/model.best.hdf5\n",
      "Epoch 00004: val_loss did not improve\n",
      "Epoch 00005: val_loss did not improve\n",
      "Epoch 00006: val_loss did not improve\n",
      "Runtime: 1 min 34 sec\n"
     ]
    }
   ],
   "source": [
    "model_top = get_model_top()\n",
    "\n",
    "model_top, callback_inst = train_model(model_top, \n",
    "                                       X_train_features_xpand, y_train_xpand,\n",
    "                                       X_cv_features, y_cv, \n",
    "                                       epochs=7,\n",
    "                                       batch_size=128,\n",
    "                                       wanna_plot=False)"
   ]
  },
  {
   "cell_type": "code",
   "execution_count": 21,
   "metadata": {},
   "outputs": [
    {
     "data": {
      "image/png": "[encoded data removed]",
      "text/plain": [
       "<matplotlib.figure.Figure at 0x7fbf1487fcc0>"
      ]
     },
     "metadata": {},
     "output_type": "display_data"
    }
   ],
   "source": [
    "callback_inst.plotter()"
   ]
  },
  {
   "cell_type": "code",
   "execution_count": 22,
   "metadata": {},
   "outputs": [
    {
     "name": "stdout",
     "output_type": "stream",
     "text": [
      "3712/4000 [==========================>...] - ETA: 0s\n",
      "threshold = 0.99, Test Accuracy = 93.53 %\n"
     ]
    }
   ],
   "source": [
    "model_top.load_weights('saved_models/model.best.hdf5')\n",
    "\n",
    "_loss, acc = model_top.evaluate(X_test_features, y_test, \n",
    "                                batch_size=128);\n",
    "print('\\nthreshold = %.2f, Test Accuracy = %.2f %%' % (threshold, acc*100))"
   ]
  },
  {
   "cell_type": "code",
   "execution_count": 30,
   "metadata": {
    "collapsed": true
   },
   "outputs": [],
   "source": [
    "cnames, fidx = get_cnames_fidx()"
   ]
  },
  {
   "cell_type": "code",
   "execution_count": null,
   "metadata": {
    "collapsed": true
   },
   "outputs": [],
   "source": []
  },
  {
   "cell_type": "code",
   "execution_count": null,
   "metadata": {
    "collapsed": true
   },
   "outputs": [],
   "source": []
  },
  {
   "cell_type": "code",
   "execution_count": null,
   "metadata": {
    "collapsed": true
   },
   "outputs": [],
   "source": []
  },
  {
   "cell_type": "code",
   "execution_count": null,
   "metadata": {
    "collapsed": true
   },
   "outputs": [],
   "source": []
  }
 ],
 "metadata": {
  "kernelspec": {
   "display_name": "Python 3",
   "language": "python",
   "name": "python3"
  },
  "language_info": {
   "codemirror_mode": {
    "name": "ipython",
    "version": 3
   },
   "file_extension": ".py",
   "mimetype": "text/x-python",
   "name": "python",
   "nbconvert_exporter": "python",
   "pygments_lexer": "ipython3",
   "version": "3.6.1"
  }
 },
 "nbformat": 4,
 "nbformat_minor": 2
}
